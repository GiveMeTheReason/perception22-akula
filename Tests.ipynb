{
 "cells": [
  {
   "cell_type": "code",
   "execution_count": 1,
   "metadata": {
    "ExecuteTime": {
     "end_time": "2022-03-23T17:00:31.250171Z",
     "start_time": "2022-03-23T17:00:31.188157Z"
    }
   },
   "outputs": [],
   "source": [
    "%load_ext autoreload\n",
    "%autoreload 2"
   ]
  },
  {
   "cell_type": "code",
   "execution_count": 78,
   "metadata": {
    "ExecuteTime": {
     "end_time": "2022-03-23T23:34:13.350797Z",
     "start_time": "2022-03-23T23:34:13.191616Z"
    }
   },
   "outputs": [],
   "source": [
    "from ekf import *\n",
    "\n",
    "%matplotlib inline"
   ]
  },
  {
   "cell_type": "code",
   "execution_count": 118,
   "metadata": {
    "ExecuteTime": {
     "end_time": "2022-03-24T02:26:47.176871Z",
     "start_time": "2022-03-24T02:26:46.731860Z"
    }
   },
   "outputs": [],
   "source": [
    "# initial_state = np.array([0, 1, 0])\n",
    "# controls = np.zeros([15, 2]) + 1e-40\n",
    "# controls[0, :] = 1\n",
    "\n",
    "# mu_action_space = np.array([0, 0, 0])\n",
    "# cov_action_space = np.array([[0.1, 0.05, 0], [0.05, 0.1, 0], [0, 0, 0.1]])\n",
    "\n",
    "# mu_obs = np.array([0, 0])\n",
    "# cov_obs = np.array([[0.01, 0], [0, 0.01]])\n",
    "\n",
    "# trajectory, noisy_trajectory, observations = generate_simulation(\n",
    "#     initial_state, controls,\n",
    "#     mu_action_space, cov_action_space,\n",
    "#     mu_obs, cov_obs, d=0.5, delta_t=1)"
   ]
  },
  {
   "cell_type": "code",
   "execution_count": 119,
   "metadata": {
    "ExecuteTime": {
     "end_time": "2022-03-24T02:26:48.736565Z",
     "start_time": "2022-03-24T02:26:48.667065Z"
    }
   },
   "outputs": [],
   "source": [
    "# plot_trajectory(trajectory, 'trajectory from controls')\n",
    "# plot_trajectory(noisy_trajectory, 'real trajectory')\n",
    "# plt.title('Robot path')\n",
    "# plt.legend()"
   ]
  },
  {
   "cell_type": "markdown",
   "metadata": {},
   "source": [
    "# 1. EKF implementation"
   ]
  },
  {
   "cell_type": "code",
   "execution_count": 110,
   "metadata": {
    "ExecuteTime": {
     "end_time": "2022-03-24T00:53:16.375691Z",
     "start_time": "2022-03-24T00:53:15.995300Z"
    }
   },
   "outputs": [],
   "source": [
    "# initialization parameters\n",
    "\n",
    "state_initial = np.array([0.00, 0.000, 0.00])\n",
    "sigma_initial = np.diag(np.repeat(1e-10, 3))\n",
    "alphas = np.array([0.01, 0.01, 0.01, 0.01])\n",
    "\n",
    "d = (400 + 525.55) / 2 / 1000 # inter-wheel distance in meters\n",
    "\n",
    "r = 130 / 1000 # radius of the wheel\n",
    "CPR = 2394 # counts per rotation\n",
    "k = 2 * np.pi * r / CPR # obs = (delta distance) / k\n",
    "\n",
    "Q = np.diag([0.01, 0.01])"
   ]
  },
  {
   "cell_type": "code",
   "execution_count": 116,
   "metadata": {
    "ExecuteTime": {
     "end_time": "2022-03-24T00:54:05.790640Z",
     "start_time": "2022-03-24T00:54:05.715430Z"
    }
   },
   "outputs": [],
   "source": [
    "ekf = EKFarc(state_initial, sigma_initial, alphas, d, k, Q)\n",
    "\n",
    "controls = np.array([0.1, 0.001])\n",
    "ekf.predict(controls=controls, delta_t=0.1)\n",
    "ekf.update(z=np.array([0.1, 0.001]))"
   ]
  },
  {
   "cell_type": "code",
   "execution_count": 117,
   "metadata": {
    "ExecuteTime": {
     "end_time": "2022-03-24T00:54:08.074642Z",
     "start_time": "2022-03-24T00:54:07.997643Z"
    }
   },
   "outputs": [
    {
     "data": {
      "text/plain": [
       "array([9.99999998e-03, 4.99999997e-07, 1.00000000e-04])"
      ]
     },
     "execution_count": 117,
     "metadata": {},
     "output_type": "execute_result"
    }
   ],
   "source": [
    "ekf.mu_bar"
   ]
  }
 ],
 "metadata": {
  "kernelspec": {
   "display_name": "Python 3",
   "language": "python",
   "name": "python3"
  },
  "language_info": {
   "codemirror_mode": {
    "name": "ipython",
    "version": 3
   },
   "file_extension": ".py",
   "mimetype": "text/x-python",
   "name": "python",
   "nbconvert_exporter": "python",
   "pygments_lexer": "ipython3",
   "version": "3.8.3"
  },
  "latex_envs": {
   "LaTeX_envs_menu_present": true,
   "autoclose": false,
   "autocomplete": true,
   "bibliofile": "biblio.bib",
   "cite_by": "apalike",
   "current_citInitial": 1,
   "eqLabelWithNumbers": true,
   "eqNumInitial": 1,
   "hotkeys": {
    "equation": "Ctrl-E",
    "itemize": "Ctrl-I"
   },
   "labels_anchors": false,
   "latex_user_defs": false,
   "report_style_numbering": false,
   "user_envs_cfg": false
  }
 },
 "nbformat": 4,
 "nbformat_minor": 4
}
